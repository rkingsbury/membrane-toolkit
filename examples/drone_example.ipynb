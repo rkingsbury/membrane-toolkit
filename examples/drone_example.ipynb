{
 "cells": [
  {
   "cell_type": "markdown",
   "metadata": {},
   "source": [
    "# membrane-toolkit data aggregation demo"
   ]
  },
  {
   "cell_type": "markdown",
   "metadata": {},
   "source": [
    "This notebook will demonstrate some of the capabilities of membrane-toolkit's core functions."
   ]
  },
  {
   "cell_type": "markdown",
   "metadata": {},
   "source": [
    "## Setup\n",
    "---\n",
    "\n",
    "In this example, we will use the `PermselectivityDrone` to parse membrane potential data from a folder full of spreadsheets. The `Drone` will create a pandas `DataFrame` out of the data. We'll then use that `DataFrame` calculate the ideal membrane potential and the apparent permselectivity using the `nernst_potential` and `apparent_permselectivity` functions from `membrane_toolkit.core`"
   ]
  },
  {
   "cell_type": "code",
   "execution_count": 1,
   "metadata": {},
   "outputs": [
    {
     "name": "stderr",
     "output_type": "stream",
     "text": [
      "/home/ryan/anaconda3/envs/wsl2/lib/python3.8/site-packages/maggma/utils.py:20: TqdmExperimentalWarning: Using `tqdm.autonotebook.tqdm` in notebook mode. Use `tqdm.tqdm` instead to force console mode (e.g. in jupyter console)\n",
      "  from tqdm.autonotebook import tqdm\n"
     ]
    }
   ],
   "source": [
    "from membrane_toolkit.pipeline.drones import PermselectivityDrone\n",
    "from membrane_toolkit.core import apparent_permselectivity, nernst_potential"
   ]
  },
  {
   "cell_type": "markdown",
   "metadata": {},
   "source": [
    "**NOTE:** when importing, you must use and underscore instead of a hyphen in 'membrane_toolkit'"
   ]
  },
  {
   "cell_type": "markdown",
   "metadata": {},
   "source": [
    "## Main code\n",
    "---"
   ]
  },
  {
   "cell_type": "markdown",
   "metadata": {},
   "source": [
    "### Create the drone\n",
    "\n",
    "The first step to parsing data with membrane-toolkit is to create a `Drone` that knows the location of your data files. The Drone will loop through every file in the directory and parse their data Each `Drone` in membrane-toolkit has an associated default spreadsheet template and a corresponding configuration file. Both of these are easy to customize. The image below shows an example of how specific parts of the template spreadsheet map to values in the configuration file.\n",
    "\n",
    "![test](\"drone_template_config.png\")"
   ]
  },
  {
   "cell_type": "markdown",
   "metadata": {},
   "source": [
    "For this example, we will create a `PermselectivityDrone` because we have collected membrane potential data for permselectivity calculations. All we need to do to create the `Drone` is supply the location of our data folder:"
   ]
  },
  {
   "cell_type": "code",
   "execution_count": 9,
   "metadata": {},
   "outputs": [],
   "source": [
    "from pathlib import Path\n",
    "data_folder = Path.cwd() / 'permselectivity_data'\n",
    "drone = PermselectivityDrone(data_folder)"
   ]
  },
  {
   "cell_type": "markdown",
   "metadata": {},
   "source": [
    "### Run the drone\n",
    "\n",
    "Next, simply call `drone.run()` and all the files (6 in this case) will be parsed."
   ]
  },
  {
   "cell_type": "code",
   "execution_count": 10,
   "metadata": {},
   "outputs": [
    {
     "name": "stdout",
     "output_type": "stream",
     "text": [
      "2020-05-10 09:26:31,002 - PermselectivityDrone - DEBUG - Starting get_items in PermselectivityDrone Builder\n",
      "2020-05-10 09:26:31,002 - PermselectivityDrone - DEBUG - Starting get_items in PermselectivityDrone Builder\n"
     ]
    },
    {
     "data": {
      "application/vnd.jupyter.widget-view+json": {
       "model_id": "cc57fe7da6f34a828c14293856366ab6",
       "version_major": 2,
       "version_minor": 0
      },
      "text/plain": [
       "HBox(children=(FloatProgress(value=0.0, max=6.0), HTML(value='')))"
      ]
     },
     "metadata": {},
     "output_type": "display_data"
    },
    {
     "name": "stdout",
     "output_type": "stream",
     "text": [
      "\n",
      "2020-05-10 09:26:31,042 - PermselectivityDrone - INFO - Processing batch of 1000 items\n",
      "2020-05-10 09:26:31,042 - PermselectivityDrone - INFO - Processing batch of 1000 items\n",
      "2020-05-10 09:26:31,199 - PermselectivityDrone - DEBUG - Updating 6 items\n",
      "2020-05-10 09:26:31,199 - PermselectivityDrone - DEBUG - Updating 6 items\n"
     ]
    }
   ],
   "source": [
    "drone.run()"
   ]
  },
  {
   "cell_type": "markdown",
   "metadata": {},
   "source": [
    "### Examine the data\n",
    "\n",
    "The drone populates a [`Store`](https://materialsproject.github.io/maggma/concepts/) object with all the parsed data. Stores provide a consistent interface for adding data to several different database endpoints. In membrane-toolkit, the default `Store` adds data to a pandas dataframe, which can be viewed by calling `drone.store.as_df()`"
   ]
  },
  {
   "cell_type": "code",
   "execution_count": 11,
   "metadata": {},
   "outputs": [
    {
     "data": {
      "text/html": [
       "<div>\n",
       "<style scoped>\n",
       "    .dataframe tbody tr th:only-of-type {\n",
       "        vertical-align: middle;\n",
       "    }\n",
       "\n",
       "    .dataframe tbody tr th {\n",
       "        vertical-align: top;\n",
       "    }\n",
       "\n",
       "    .dataframe thead th {\n",
       "        text-align: right;\n",
       "    }\n",
       "</style>\n",
       "<table border=\"1\" class=\"dataframe\">\n",
       "  <thead>\n",
       "    <tr style=\"text-align: right;\">\n",
       "      <th></th>\n",
       "      <th>date</th>\n",
       "      <th>person</th>\n",
       "      <th>sample_id</th>\n",
       "      <th>membrane</th>\n",
       "      <th>temperature</th>\n",
       "      <th>electrode_offset</th>\n",
       "      <th>salt_1</th>\n",
       "      <th>conc_1</th>\n",
       "      <th>salt_2</th>\n",
       "      <th>conc_2</th>\n",
       "      <th>membrane_potential</th>\n",
       "      <th>notes</th>\n",
       "      <th>last_updated</th>\n",
       "      <th>documents</th>\n",
       "      <th>record_key</th>\n",
       "    </tr>\n",
       "  </thead>\n",
       "  <tbody>\n",
       "    <tr>\n",
       "      <th>0</th>\n",
       "      <td>2019-12-10</td>\n",
       "      <td>John Smith</td>\n",
       "      <td>AMX-0.5-2</td>\n",
       "      <td>AMX</td>\n",
       "      <td>24.3</td>\n",
       "      <td>-1.0</td>\n",
       "      <td>NaCl</td>\n",
       "      <td>0.5</td>\n",
       "      <td>NaCl</td>\n",
       "      <td>0.1</td>\n",
       "      <td>35.0</td>\n",
       "      <td>None</td>\n",
       "      <td>2020-05-10 09:26:31.011</td>\n",
       "      <td>[{'path': '/mnt/d/UNC Drive/pymemsci/examples/...</td>\n",
       "      <td>permselectivity_1.xlsx</td>\n",
       "    </tr>\n",
       "    <tr>\n",
       "      <th>1</th>\n",
       "      <td>2019-12-11</td>\n",
       "      <td>John Smith</td>\n",
       "      <td>AMX-0.5-3</td>\n",
       "      <td>AMX</td>\n",
       "      <td>24.7</td>\n",
       "      <td>-0.8</td>\n",
       "      <td>NaCl</td>\n",
       "      <td>0.5</td>\n",
       "      <td>NaCl</td>\n",
       "      <td>0.1</td>\n",
       "      <td>34.9</td>\n",
       "      <td>None</td>\n",
       "      <td>2020-05-10 09:26:31.013</td>\n",
       "      <td>[{'path': '/mnt/d/UNC Drive/pymemsci/examples/...</td>\n",
       "      <td>permselectivity_2.xlsx</td>\n",
       "    </tr>\n",
       "    <tr>\n",
       "      <th>2</th>\n",
       "      <td>2019-12-08</td>\n",
       "      <td>John Smith</td>\n",
       "      <td>AMX-0.5-1</td>\n",
       "      <td>AMX</td>\n",
       "      <td>24.9</td>\n",
       "      <td>-0.9</td>\n",
       "      <td>NaCl</td>\n",
       "      <td>0.5</td>\n",
       "      <td>NaCl</td>\n",
       "      <td>0.1</td>\n",
       "      <td>35.2</td>\n",
       "      <td>None</td>\n",
       "      <td>2020-05-10 09:26:31.015</td>\n",
       "      <td>[{'path': '/mnt/d/UNC Drive/pymemsci/examples/...</td>\n",
       "      <td>permselectivity_3.xlsx</td>\n",
       "    </tr>\n",
       "    <tr>\n",
       "      <th>3</th>\n",
       "      <td>2020-01-14</td>\n",
       "      <td>Jane Doe</td>\n",
       "      <td>CMX-5</td>\n",
       "      <td>CMX</td>\n",
       "      <td>23.0</td>\n",
       "      <td>-0.2</td>\n",
       "      <td>NaCl</td>\n",
       "      <td>0.5</td>\n",
       "      <td>NaCl</td>\n",
       "      <td>0.1</td>\n",
       "      <td>35.0</td>\n",
       "      <td>None</td>\n",
       "      <td>2020-05-10 09:26:31.018</td>\n",
       "      <td>[{'path': '/mnt/d/UNC Drive/pymemsci/examples/...</td>\n",
       "      <td>permselectivity_4.xlsx</td>\n",
       "    </tr>\n",
       "    <tr>\n",
       "      <th>4</th>\n",
       "      <td>2020-01-16</td>\n",
       "      <td>Jane Doe</td>\n",
       "      <td>CMX-7</td>\n",
       "      <td>CMX</td>\n",
       "      <td>23.8</td>\n",
       "      <td>-0.4</td>\n",
       "      <td>NaCl</td>\n",
       "      <td>0.5</td>\n",
       "      <td>NaCl</td>\n",
       "      <td>0.1</td>\n",
       "      <td>35.8</td>\n",
       "      <td>None</td>\n",
       "      <td>2020-05-10 09:26:31.019</td>\n",
       "      <td>[{'path': '/mnt/d/UNC Drive/pymemsci/examples/...</td>\n",
       "      <td>permselectivity_5.xlsx</td>\n",
       "    </tr>\n",
       "    <tr>\n",
       "      <th>5</th>\n",
       "      <td>2020-01-17</td>\n",
       "      <td>Jane Doe</td>\n",
       "      <td>CMX-8</td>\n",
       "      <td>CMX</td>\n",
       "      <td>24.0</td>\n",
       "      <td>-0.5</td>\n",
       "      <td>NaCl</td>\n",
       "      <td>0.5</td>\n",
       "      <td>NaCl</td>\n",
       "      <td>0.1</td>\n",
       "      <td>35.4</td>\n",
       "      <td>None</td>\n",
       "      <td>2020-05-10 09:26:31.021</td>\n",
       "      <td>[{'path': '/mnt/d/UNC Drive/pymemsci/examples/...</td>\n",
       "      <td>permselectivity_6.xlsx</td>\n",
       "    </tr>\n",
       "  </tbody>\n",
       "</table>\n",
       "</div>"
      ],
      "text/plain": [
       "        date      person  sample_id membrane  temperature  electrode_offset  \\\n",
       "0 2019-12-10  John Smith  AMX-0.5-2      AMX         24.3              -1.0   \n",
       "1 2019-12-11  John Smith  AMX-0.5-3      AMX         24.7              -0.8   \n",
       "2 2019-12-08  John Smith  AMX-0.5-1      AMX         24.9              -0.9   \n",
       "3 2020-01-14    Jane Doe      CMX-5      CMX         23.0              -0.2   \n",
       "4 2020-01-16    Jane Doe      CMX-7      CMX         23.8              -0.4   \n",
       "5 2020-01-17    Jane Doe      CMX-8      CMX         24.0              -0.5   \n",
       "\n",
       "  salt_1  conc_1 salt_2  conc_2  membrane_potential notes  \\\n",
       "0   NaCl     0.5   NaCl     0.1                35.0  None   \n",
       "1   NaCl     0.5   NaCl     0.1                34.9  None   \n",
       "2   NaCl     0.5   NaCl     0.1                35.2  None   \n",
       "3   NaCl     0.5   NaCl     0.1                35.0  None   \n",
       "4   NaCl     0.5   NaCl     0.1                35.8  None   \n",
       "5   NaCl     0.5   NaCl     0.1                35.4  None   \n",
       "\n",
       "             last_updated                                          documents  \\\n",
       "0 2020-05-10 09:26:31.011  [{'path': '/mnt/d/UNC Drive/pymemsci/examples/...   \n",
       "1 2020-05-10 09:26:31.013  [{'path': '/mnt/d/UNC Drive/pymemsci/examples/...   \n",
       "2 2020-05-10 09:26:31.015  [{'path': '/mnt/d/UNC Drive/pymemsci/examples/...   \n",
       "3 2020-05-10 09:26:31.018  [{'path': '/mnt/d/UNC Drive/pymemsci/examples/...   \n",
       "4 2020-05-10 09:26:31.019  [{'path': '/mnt/d/UNC Drive/pymemsci/examples/...   \n",
       "5 2020-05-10 09:26:31.021  [{'path': '/mnt/d/UNC Drive/pymemsci/examples/...   \n",
       "\n",
       "               record_key  \n",
       "0  permselectivity_1.xlsx  \n",
       "1  permselectivity_2.xlsx  \n",
       "2  permselectivity_3.xlsx  \n",
       "3  permselectivity_4.xlsx  \n",
       "4  permselectivity_5.xlsx  \n",
       "5  permselectivity_6.xlsx  "
      ]
     },
     "execution_count": 11,
     "metadata": {},
     "output_type": "execute_result"
    }
   ],
   "source": [
    "df = drone.store.as_df()\n",
    "df"
   ]
  },
  {
   "cell_type": "markdown",
   "metadata": {},
   "source": [
    "### Filter the data\n",
    "\n",
    "You'll notice that in addition to the fields from the spreadsheet data, the drone has created a few extra fields like `record_key` and `documents`, and some of the data like the person running the experiment may not be relevant to the analysis we want to do. Pandas dataframes make it easy to filter the data so you only see what you need. For example, if we only want to see the membrane type, temperature, and date:"
   ]
  },
  {
   "cell_type": "code",
   "execution_count": 12,
   "metadata": {},
   "outputs": [
    {
     "data": {
      "text/html": [
       "<div>\n",
       "<style scoped>\n",
       "    .dataframe tbody tr th:only-of-type {\n",
       "        vertical-align: middle;\n",
       "    }\n",
       "\n",
       "    .dataframe tbody tr th {\n",
       "        vertical-align: top;\n",
       "    }\n",
       "\n",
       "    .dataframe thead th {\n",
       "        text-align: right;\n",
       "    }\n",
       "</style>\n",
       "<table border=\"1\" class=\"dataframe\">\n",
       "  <thead>\n",
       "    <tr style=\"text-align: right;\">\n",
       "      <th></th>\n",
       "      <th>membrane</th>\n",
       "      <th>date</th>\n",
       "      <th>temperature</th>\n",
       "    </tr>\n",
       "  </thead>\n",
       "  <tbody>\n",
       "    <tr>\n",
       "      <th>0</th>\n",
       "      <td>AMX</td>\n",
       "      <td>2019-12-10</td>\n",
       "      <td>24.3</td>\n",
       "    </tr>\n",
       "    <tr>\n",
       "      <th>1</th>\n",
       "      <td>AMX</td>\n",
       "      <td>2019-12-11</td>\n",
       "      <td>24.7</td>\n",
       "    </tr>\n",
       "    <tr>\n",
       "      <th>2</th>\n",
       "      <td>AMX</td>\n",
       "      <td>2019-12-08</td>\n",
       "      <td>24.9</td>\n",
       "    </tr>\n",
       "    <tr>\n",
       "      <th>3</th>\n",
       "      <td>CMX</td>\n",
       "      <td>2020-01-14</td>\n",
       "      <td>23.0</td>\n",
       "    </tr>\n",
       "    <tr>\n",
       "      <th>4</th>\n",
       "      <td>CMX</td>\n",
       "      <td>2020-01-16</td>\n",
       "      <td>23.8</td>\n",
       "    </tr>\n",
       "    <tr>\n",
       "      <th>5</th>\n",
       "      <td>CMX</td>\n",
       "      <td>2020-01-17</td>\n",
       "      <td>24.0</td>\n",
       "    </tr>\n",
       "  </tbody>\n",
       "</table>\n",
       "</div>"
      ],
      "text/plain": [
       "  membrane       date  temperature\n",
       "0      AMX 2019-12-10         24.3\n",
       "1      AMX 2019-12-11         24.7\n",
       "2      AMX 2019-12-08         24.9\n",
       "3      CMX 2020-01-14         23.0\n",
       "4      CMX 2020-01-16         23.8\n",
       "5      CMX 2020-01-17         24.0"
      ]
     },
     "execution_count": 12,
     "metadata": {},
     "output_type": "execute_result"
    }
   ],
   "source": [
    "df.xs(([\"membrane\",\"date\",\"temperature\"]),axis=1)"
   ]
  },
  {
   "cell_type": "markdown",
   "metadata": {},
   "source": [
    "### Make some calculations\n",
    "\n",
    "Now that we have all the experimental data in one place, we can calculate the ideal membrane potential and the apparent permselectivity. First, we'll use the [`nerst_potential`]() core function to "
   ]
  },
  {
   "cell_type": "code",
   "execution_count": 15,
   "metadata": {},
   "outputs": [
    {
     "data": {
      "text/html": [
       "<div>\n",
       "<style scoped>\n",
       "    .dataframe tbody tr th:only-of-type {\n",
       "        vertical-align: middle;\n",
       "    }\n",
       "\n",
       "    .dataframe tbody tr th {\n",
       "        vertical-align: top;\n",
       "    }\n",
       "\n",
       "    .dataframe thead th {\n",
       "        text-align: right;\n",
       "    }\n",
       "</style>\n",
       "<table border=\"1\" class=\"dataframe\">\n",
       "  <thead>\n",
       "    <tr style=\"text-align: right;\">\n",
       "      <th></th>\n",
       "      <th>date</th>\n",
       "      <th>person</th>\n",
       "      <th>sample_id</th>\n",
       "      <th>membrane</th>\n",
       "      <th>temperature</th>\n",
       "      <th>electrode_offset</th>\n",
       "      <th>salt_1</th>\n",
       "      <th>conc_1</th>\n",
       "      <th>salt_2</th>\n",
       "      <th>conc_2</th>\n",
       "      <th>membrane_potential</th>\n",
       "      <th>notes</th>\n",
       "      <th>last_updated</th>\n",
       "      <th>documents</th>\n",
       "      <th>record_key</th>\n",
       "      <th>ideal_potential</th>\n",
       "    </tr>\n",
       "  </thead>\n",
       "  <tbody>\n",
       "    <tr>\n",
       "      <th>0</th>\n",
       "      <td>2019-12-10</td>\n",
       "      <td>John Smith</td>\n",
       "      <td>AMX-0.5-2</td>\n",
       "      <td>AMX</td>\n",
       "      <td>24.3</td>\n",
       "      <td>-1.0</td>\n",
       "      <td>NaCl</td>\n",
       "      <td>0.5</td>\n",
       "      <td>NaCl</td>\n",
       "      <td>0.1</td>\n",
       "      <td>35.0</td>\n",
       "      <td>None</td>\n",
       "      <td>2020-05-10 09:26:31.011</td>\n",
       "      <td>[{'path': '/mnt/d/UNC Drive/pymemsci/examples/...</td>\n",
       "      <td>permselectivity_1.xlsx</td>\n",
       "      <td>41.251374</td>\n",
       "    </tr>\n",
       "    <tr>\n",
       "      <th>1</th>\n",
       "      <td>2019-12-11</td>\n",
       "      <td>John Smith</td>\n",
       "      <td>AMX-0.5-3</td>\n",
       "      <td>AMX</td>\n",
       "      <td>24.7</td>\n",
       "      <td>-0.8</td>\n",
       "      <td>NaCl</td>\n",
       "      <td>0.5</td>\n",
       "      <td>NaCl</td>\n",
       "      <td>0.1</td>\n",
       "      <td>34.9</td>\n",
       "      <td>None</td>\n",
       "      <td>2020-05-10 09:26:31.013</td>\n",
       "      <td>[{'path': '/mnt/d/UNC Drive/pymemsci/examples/...</td>\n",
       "      <td>permselectivity_2.xlsx</td>\n",
       "      <td>41.306847</td>\n",
       "    </tr>\n",
       "    <tr>\n",
       "      <th>2</th>\n",
       "      <td>2019-12-08</td>\n",
       "      <td>John Smith</td>\n",
       "      <td>AMX-0.5-1</td>\n",
       "      <td>AMX</td>\n",
       "      <td>24.9</td>\n",
       "      <td>-0.9</td>\n",
       "      <td>NaCl</td>\n",
       "      <td>0.5</td>\n",
       "      <td>NaCl</td>\n",
       "      <td>0.1</td>\n",
       "      <td>35.2</td>\n",
       "      <td>None</td>\n",
       "      <td>2020-05-10 09:26:31.015</td>\n",
       "      <td>[{'path': '/mnt/d/UNC Drive/pymemsci/examples/...</td>\n",
       "      <td>permselectivity_3.xlsx</td>\n",
       "      <td>41.334584</td>\n",
       "    </tr>\n",
       "    <tr>\n",
       "      <th>3</th>\n",
       "      <td>2020-01-14</td>\n",
       "      <td>Jane Doe</td>\n",
       "      <td>CMX-5</td>\n",
       "      <td>CMX</td>\n",
       "      <td>23.0</td>\n",
       "      <td>-0.2</td>\n",
       "      <td>NaCl</td>\n",
       "      <td>0.5</td>\n",
       "      <td>NaCl</td>\n",
       "      <td>0.1</td>\n",
       "      <td>35.0</td>\n",
       "      <td>None</td>\n",
       "      <td>2020-05-10 09:26:31.018</td>\n",
       "      <td>[{'path': '/mnt/d/UNC Drive/pymemsci/examples/...</td>\n",
       "      <td>permselectivity_4.xlsx</td>\n",
       "      <td>41.071086</td>\n",
       "    </tr>\n",
       "    <tr>\n",
       "      <th>4</th>\n",
       "      <td>2020-01-16</td>\n",
       "      <td>Jane Doe</td>\n",
       "      <td>CMX-7</td>\n",
       "      <td>CMX</td>\n",
       "      <td>23.8</td>\n",
       "      <td>-0.4</td>\n",
       "      <td>NaCl</td>\n",
       "      <td>0.5</td>\n",
       "      <td>NaCl</td>\n",
       "      <td>0.1</td>\n",
       "      <td>35.8</td>\n",
       "      <td>None</td>\n",
       "      <td>2020-05-10 09:26:31.019</td>\n",
       "      <td>[{'path': '/mnt/d/UNC Drive/pymemsci/examples/...</td>\n",
       "      <td>permselectivity_5.xlsx</td>\n",
       "      <td>41.182032</td>\n",
       "    </tr>\n",
       "    <tr>\n",
       "      <th>5</th>\n",
       "      <td>2020-01-17</td>\n",
       "      <td>Jane Doe</td>\n",
       "      <td>CMX-8</td>\n",
       "      <td>CMX</td>\n",
       "      <td>24.0</td>\n",
       "      <td>-0.5</td>\n",
       "      <td>NaCl</td>\n",
       "      <td>0.5</td>\n",
       "      <td>NaCl</td>\n",
       "      <td>0.1</td>\n",
       "      <td>35.4</td>\n",
       "      <td>None</td>\n",
       "      <td>2020-05-10 09:26:31.021</td>\n",
       "      <td>[{'path': '/mnt/d/UNC Drive/pymemsci/examples/...</td>\n",
       "      <td>permselectivity_6.xlsx</td>\n",
       "      <td>41.209769</td>\n",
       "    </tr>\n",
       "  </tbody>\n",
       "</table>\n",
       "</div>"
      ],
      "text/plain": [
       "        date      person  sample_id membrane  temperature  electrode_offset  \\\n",
       "0 2019-12-10  John Smith  AMX-0.5-2      AMX         24.3              -1.0   \n",
       "1 2019-12-11  John Smith  AMX-0.5-3      AMX         24.7              -0.8   \n",
       "2 2019-12-08  John Smith  AMX-0.5-1      AMX         24.9              -0.9   \n",
       "3 2020-01-14    Jane Doe      CMX-5      CMX         23.0              -0.2   \n",
       "4 2020-01-16    Jane Doe      CMX-7      CMX         23.8              -0.4   \n",
       "5 2020-01-17    Jane Doe      CMX-8      CMX         24.0              -0.5   \n",
       "\n",
       "  salt_1  conc_1 salt_2  conc_2  membrane_potential notes  \\\n",
       "0   NaCl     0.5   NaCl     0.1                35.0  None   \n",
       "1   NaCl     0.5   NaCl     0.1                34.9  None   \n",
       "2   NaCl     0.5   NaCl     0.1                35.2  None   \n",
       "3   NaCl     0.5   NaCl     0.1                35.0  None   \n",
       "4   NaCl     0.5   NaCl     0.1                35.8  None   \n",
       "5   NaCl     0.5   NaCl     0.1                35.4  None   \n",
       "\n",
       "             last_updated                                          documents  \\\n",
       "0 2020-05-10 09:26:31.011  [{'path': '/mnt/d/UNC Drive/pymemsci/examples/...   \n",
       "1 2020-05-10 09:26:31.013  [{'path': '/mnt/d/UNC Drive/pymemsci/examples/...   \n",
       "2 2020-05-10 09:26:31.015  [{'path': '/mnt/d/UNC Drive/pymemsci/examples/...   \n",
       "3 2020-05-10 09:26:31.018  [{'path': '/mnt/d/UNC Drive/pymemsci/examples/...   \n",
       "4 2020-05-10 09:26:31.019  [{'path': '/mnt/d/UNC Drive/pymemsci/examples/...   \n",
       "5 2020-05-10 09:26:31.021  [{'path': '/mnt/d/UNC Drive/pymemsci/examples/...   \n",
       "\n",
       "               record_key  ideal_potential  \n",
       "0  permselectivity_1.xlsx        41.251374  \n",
       "1  permselectivity_2.xlsx        41.306847  \n",
       "2  permselectivity_3.xlsx        41.334584  \n",
       "3  permselectivity_4.xlsx        41.071086  \n",
       "4  permselectivity_5.xlsx        41.182032  \n",
       "5  permselectivity_6.xlsx        41.209769  "
      ]
     },
     "execution_count": 15,
     "metadata": {},
     "output_type": "execute_result"
    }
   ],
   "source": [
    "df[\"ideal_potential\"] = df.apply(lambda row: nernst_potential(row[\"conc_1\"], row[\"conc_2\"], 1, row[\"temperature\"]) * 1000, axis=1)\n",
    "df"
   ]
  },
  {
   "cell_type": "code",
   "execution_count": 16,
   "metadata": {},
   "outputs": [],
   "source": [
    "df[\"permselectivity\"] = apparent_permselectivity(df[\"membrane_potential\"], df[\"ideal_potential\"])"
   ]
  },
  {
   "cell_type": "markdown",
   "metadata": {},
   "source": [
    "### Generate summary statistics\n",
    "\n",
    "The `.groupby` method makes it easy to generate summary statics like mean or standard deviation for each membrane type."
   ]
  },
  {
   "cell_type": "code",
   "execution_count": 17,
   "metadata": {},
   "outputs": [
    {
     "data": {
      "text/plain": [
       "membrane\n",
       "AMX    0.848313\n",
       "CMX    0.860171\n",
       "Name: permselectivity, dtype: float64"
      ]
     },
     "execution_count": 17,
     "metadata": {},
     "output_type": "execute_result"
    }
   ],
   "source": [
    "df.groupby('membrane')['permselectivity'].mean()"
   ]
  },
  {
   "cell_type": "code",
   "execution_count": 18,
   "metadata": {},
   "outputs": [
    {
     "data": {
      "text/plain": [
       "membrane\n",
       "AMX    0.003348\n",
       "CMX    0.008623\n",
       "Name: permselectivity, dtype: float64"
      ]
     },
     "execution_count": 18,
     "metadata": {},
     "output_type": "execute_result"
    }
   ],
   "source": [
    "df.groupby('membrane')['permselectivity'].std()"
   ]
  }
 ],
 "metadata": {
  "kernelspec": {
   "display_name": "Python 3",
   "language": "python",
   "name": "python3"
  },
  "language_info": {
   "codemirror_mode": {
    "name": "ipython",
    "version": 3
   },
   "file_extension": ".py",
   "mimetype": "text/x-python",
   "name": "python",
   "nbconvert_exporter": "python",
   "pygments_lexer": "ipython3",
   "version": "3.8.2"
  }
 },
 "nbformat": 4,
 "nbformat_minor": 4
}
