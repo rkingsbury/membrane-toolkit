{
 "cells": [
  {
   "cell_type": "markdown",
   "metadata": {},
   "source": [
    "# membrane-toolkit core functions demo"
   ]
  },
  {
   "cell_type": "markdown",
   "metadata": {},
   "source": [
    "This notebook will demonstrate some of the capabilities of membrane-toolkit's core functions."
   ]
  },
  {
   "cell_type": "markdown",
   "metadata": {},
   "source": [
    "## Setup\n",
    "---"
   ]
  },
  {
   "cell_type": "markdown",
   "metadata": {},
   "source": [
    "**NOTE:** when importing, you must use and underscore instead of a hyphen in 'membrane_toolkit'"
   ]
  },
  {
   "cell_type": "code",
   "execution_count": 1,
   "metadata": {},
   "outputs": [],
   "source": [
    "from membrane_toolkit.core import donnan_equilibrium"
   ]
  },
  {
   "cell_type": "markdown",
   "metadata": {},
   "source": [
    "## Main code\n",
    "---"
   ]
  },
  {
   "cell_type": "markdown",
   "metadata": {},
   "source": [
    "### A simple calculation\n",
    "\n",
    "Let's use membrane-toolkit to perform a simple Donnan exclusion calculation. The Donnan equilibrium between a membrane with fixed charged concentration $\\bar C_{fix}$ (mol per L water sorbed) and a salt solution of bulk concentration $C_s$ (mol/L) is given by:\n",
    "\n",
    "$$\n",
    "\\bar C_{co}^{\\nu_{co}} \\big ( \\frac{z_{co} \\bar C_{co} + z_{fix} \\bar C_{fix}}{z_{ct}} \\big )^{\\nu_{ct}} = - \\Gamma \\nu_{ct}^{\\nu_{ct}} \\nu_{co}^{\\nu_{co}}  C_s^{\\nu_{ct} + \\nu_{co}}\n",
    "$$\n",
    "\n",
    "where subscripts $co$ and $ct$ indicate the co-ion (same charge as the membrane) and counter-ion (opposite charge to the membrane), $\\nu$ (dimensionless) are stoichiometric coefficients, and overbars indicate membrane-phase quantities, units of moles per liter of water sorbed by the membrane. $\\Gamma$ (dimensionless) is the ratio of activity coefficients in the bulk solution to those in the membrane, given by:\n",
    "\n",
    "$$\n",
    "\\Gamma = \\frac{\\gamma_{\\pm}^{\\nu_{ct} + \\nu_{co}}}{\\bar \\gamma_{ct}^{\\nu_{ct}} \\bar \\gamma_{co}^{\\nu_{co}}}\n",
    "$$\n",
    "\n",
    "Of course, it is much more common in literature to see a simplified form of the Donnan equilibrium, which applies to monovalent, 1:1 salts when $z_{fix}$ = 1, and $\\Gamma$ is assumed to equal 1. Subject to those assumptions, the above equations simplify to\n",
    "\n",
    "$$\n",
    "\\bar C_{co} = C_s \\exp \\big(-asinh( \\frac{\\bar C_{fix}}{2 C_s })\\big )\n",
    "$$\n",
    "\n",
    "First, let's calculate the co-ion concentration using the `donnan_equilibrium` function, and see if it compares to our expectations from the simplified formula. Consider a bulk NaCl solution with $C_s$=0.5 mol/L and a membrane with $\\bar C_{fix}$= 4 mol/L"
   ]
  },
  {
   "cell_type": "code",
   "execution_count": 2,
   "metadata": {},
   "outputs": [
    {
     "name": "stdout",
     "output_type": "stream",
     "text": [
      "0.062 mol/L\n"
     ]
    }
   ],
   "source": [
    "from membrane_toolkit.core import donnan_equilibrium\n",
    "# assuming a monovalent 1:1 salt, we only need to supply two arguments\n",
    "Cs = 0.5\n",
    "Cfix = 4.0\n",
    "\n",
    "Cco = donnan_equilibrium(Cs, Cfix)\n",
    "print(\"{:.3f} mol/L\".format(Cco))"
   ]
  },
  {
   "cell_type": "markdown",
   "metadata": {},
   "source": [
    "Let's compare this to the result we could calculate manually via the simplified formula"
   ]
  },
  {
   "cell_type": "code",
   "execution_count": 3,
   "metadata": {},
   "outputs": [
    {
     "name": "stdout",
     "output_type": "stream",
     "text": [
      "0.062 mol/L\n"
     ]
    }
   ],
   "source": [
    "import numpy as np\n",
    "Cco = Cs * np.exp(-1*np.arcsinh(Cfix / 2 / Cs))\n",
    "print(\"{:.3f} mol/L\".format(Cco))"
   ]
  },
  {
   "cell_type": "markdown",
   "metadata": {},
   "source": [
    "If we have a more complicated situation (e.g., a multivalent salt), we simply add additional arguments to represent the stoichiometry:"
   ]
  },
  {
   "cell_type": "code",
   "execution_count": 4,
   "metadata": {},
   "outputs": [
    {
     "name": "stdout",
     "output_type": "stream",
     "text": [
      "0.473 mol/L\n"
     ]
    }
   ],
   "source": [
    "from membrane_toolkit.core import donnan_equilibrium\n",
    "# for MgCl2, we need to supply additional arguments z_counter = +2, nu_co = 2, z_co = -1, and nu_co = 2\n",
    "Cs = 0.5\n",
    "Cfix = 4.0\n",
    "\n",
    "Cco = donnan_equilibrium(Cs, Cfix, z_counter=2, z_co=-1, nu_counter=1, nu_co=2)\n",
    "print(\"{:.3f} mol/L\".format(Cco))"
   ]
  },
  {
   "cell_type": "markdown",
   "metadata": {},
   "source": [
    "Note that if we pass an invalid set of stoichiometric parameters, we'll get an `AssertionError`"
   ]
  },
  {
   "cell_type": "code",
   "execution_count": 5,
   "metadata": {},
   "outputs": [
    {
     "ename": "AssertionError",
     "evalue": "",
     "output_type": "error",
     "traceback": [
      "\u001b[0;31m---------------------------------------------------------------------------\u001b[0m",
      "\u001b[0;31mAssertionError\u001b[0m                            Traceback (most recent call last)",
      "\u001b[0;32m<ipython-input-5-890108139f89>\u001b[0m in \u001b[0;36m<module>\u001b[0;34m\u001b[0m\n\u001b[1;32m      4\u001b[0m \u001b[0mCfix\u001b[0m \u001b[0;34m=\u001b[0m \u001b[0;36m4.0\u001b[0m\u001b[0;34m\u001b[0m\u001b[0;34m\u001b[0m\u001b[0m\n\u001b[1;32m      5\u001b[0m \u001b[0;34m\u001b[0m\u001b[0m\n\u001b[0;32m----> 6\u001b[0;31m \u001b[0mCco\u001b[0m \u001b[0;34m=\u001b[0m \u001b[0mdonnan_equilibrium\u001b[0m\u001b[0;34m(\u001b[0m\u001b[0mCs\u001b[0m\u001b[0;34m,\u001b[0m \u001b[0mCfix\u001b[0m\u001b[0;34m,\u001b[0m \u001b[0mz_counter\u001b[0m\u001b[0;34m=\u001b[0m\u001b[0;36m2\u001b[0m\u001b[0;34m,\u001b[0m \u001b[0mz_co\u001b[0m\u001b[0;34m=\u001b[0m\u001b[0;34m-\u001b[0m\u001b[0;36m2\u001b[0m\u001b[0;34m,\u001b[0m \u001b[0mnu_counter\u001b[0m\u001b[0;34m=\u001b[0m\u001b[0;36m1\u001b[0m\u001b[0;34m,\u001b[0m \u001b[0mnu_co\u001b[0m\u001b[0;34m=\u001b[0m\u001b[0;36m2\u001b[0m\u001b[0;34m)\u001b[0m\u001b[0;34m\u001b[0m\u001b[0;34m\u001b[0m\u001b[0m\n\u001b[0m\u001b[1;32m      7\u001b[0m \u001b[0mprint\u001b[0m\u001b[0;34m(\u001b[0m\u001b[0;34m\"{:.3f} mol/L\"\u001b[0m\u001b[0;34m.\u001b[0m\u001b[0mformat\u001b[0m\u001b[0;34m(\u001b[0m\u001b[0mCco\u001b[0m\u001b[0;34m)\u001b[0m\u001b[0;34m)\u001b[0m\u001b[0;34m\u001b[0m\u001b[0;34m\u001b[0m\u001b[0m\n",
      "\u001b[0;32m/mnt/d/UNC Drive/pymemsci/membrane_toolkit/core/donnan.py\u001b[0m in \u001b[0;36mdonnan_equilibrium\u001b[0;34m(C_bulk, C_fix, z_counter, z_co, nu_counter, nu_co, z_fix, gamma)\u001b[0m\n\u001b[1;32m     85\u001b[0m     \u001b[0;32massert\u001b[0m \u001b[0mnu_counter\u001b[0m \u001b[0;34m>\u001b[0m \u001b[0;36m0\u001b[0m\u001b[0;34m\u001b[0m\u001b[0;34m\u001b[0m\u001b[0m\n\u001b[1;32m     86\u001b[0m     \u001b[0;32massert\u001b[0m \u001b[0mnu_co\u001b[0m \u001b[0;34m>\u001b[0m \u001b[0;36m0\u001b[0m\u001b[0;34m\u001b[0m\u001b[0;34m\u001b[0m\u001b[0m\n\u001b[0;32m---> 87\u001b[0;31m     \u001b[0;32massert\u001b[0m \u001b[0mnu_counter\u001b[0m \u001b[0;34m*\u001b[0m \u001b[0mz_counter\u001b[0m \u001b[0;34m==\u001b[0m \u001b[0;34m-\u001b[0m\u001b[0;36m1\u001b[0m \u001b[0;34m*\u001b[0m \u001b[0mnu_co\u001b[0m \u001b[0;34m*\u001b[0m \u001b[0mz_co\u001b[0m\u001b[0;34m\u001b[0m\u001b[0;34m\u001b[0m\u001b[0m\n\u001b[0m\u001b[1;32m     88\u001b[0m     \u001b[0;32massert\u001b[0m \u001b[0mz_fix\u001b[0m \u001b[0;34m*\u001b[0m \u001b[0mz_counter\u001b[0m \u001b[0;34m<\u001b[0m \u001b[0;36m0\u001b[0m\u001b[0;34m\u001b[0m\u001b[0;34m\u001b[0m\u001b[0m\n\u001b[1;32m     89\u001b[0m \u001b[0;34m\u001b[0m\u001b[0m\n",
      "\u001b[0;31mAssertionError\u001b[0m: "
     ]
    }
   ],
   "source": [
    "from membrane_toolkit.core import donnan_equilibrium\n",
    "# for MgCl2, we need to supply additional arguments z_counter = +2, nu_co = 2, z_co = -1, and nu_co = 2\n",
    "Cs = 0.5\n",
    "Cfix = 4.0\n",
    "\n",
    "Cco = donnan_equilibrium(Cs, Cfix, z_counter=2, z_co=-2, nu_counter=1, nu_co=2)\n",
    "print(\"{:.3f} mol/L\".format(Cco))"
   ]
  },
  {
   "cell_type": "markdown",
   "metadata": {},
   "source": [
    "### Units-aware computation\n",
    "\n",
    "membrane-toolkit can automatically recognize and convert different units, by utilizing the [pint](pint.readthedocs.io/) module. **Every core function in membrane-toolkit is available with support for units-aware computation**. To use the \"unitized\" version of any core function, simply import it from `membrane_toolkit.core.unitized` instead of `membrane_toolkit.core`"
   ]
  },
  {
   "cell_type": "code",
   "execution_count": 6,
   "metadata": {},
   "outputs": [],
   "source": [
    "from membrane_toolkit.core.unitized import donnan_equilibrium, ureg"
   ]
  },
  {
   "cell_type": "markdown",
   "metadata": {},
   "source": [
    "Instead of `floats`, units-aware functions accept pint `Quantity` objects as inputs. `Quantity` objects are defined with a simple strings representing units, like 'mol/L'"
   ]
  },
  {
   "cell_type": "code",
   "execution_count": 7,
   "metadata": {},
   "outputs": [
    {
     "name": "stdout",
     "output_type": "stream",
     "text": [
      "Cs = 500.0 millimole / liter\n",
      "Cfix = 4.0 mole / liter\n"
     ]
    }
   ],
   "source": [
    "Cs = ureg.Quantity('500 mmol/L')\n",
    "Cfix = ureg.Quantity('4 mol/L')\n",
    "print(\"Cs = {}\".format(Cs))\n",
    "print(\"Cfix = {}\".format(Cfix))"
   ]
  },
  {
   "cell_type": "markdown",
   "metadata": {},
   "source": [
    "Let's repeat the calculation using the unitized version of `donnan_equilibrium`. Notice that `Cs` has units of mmol/L while `Cfix` has units of mol/L. Normally we would need to manually convert these into consistent units, but the unitized version of `donnan_equilibrium` does that for us:"
   ]
  },
  {
   "cell_type": "code",
   "execution_count": 8,
   "metadata": {},
   "outputs": [
    {
     "name": "stdout",
     "output_type": "stream",
     "text": [
      "0.062 mole / liter\n"
     ]
    }
   ],
   "source": [
    "from membrane_toolkit.core.unitized import donnan_equilibrium\n",
    "Cco = donnan_equilibrium(Cs, Cfix)\n",
    "print(\"{:.3f}\".format(Cco))"
   ]
  },
  {
   "cell_type": "markdown",
   "metadata": {},
   "source": [
    "### Uncertainty propagation\n",
    "\n",
    "Uncertainty propagation can be handled automatically using the [uncertainties](https://pythonhosted.org/uncertainties/) package. Simply create a `ufloat` instead of a regular float, and membrane-toolkit will accurately propagate the uncertainty through most calculations. In this example, we'll calculate the apparent permselectivity of a membrane, based on a measured membrane potential of 35 +/- 0.2 mV."
   ]
  },
  {
   "cell_type": "code",
   "execution_count": 9,
   "metadata": {},
   "outputs": [
    {
     "name": "stdout",
     "output_type": "stream",
     "text": [
      "Emem = 35.0+/-0.2\n"
     ]
    }
   ],
   "source": [
    "from uncertainties import ufloat\n",
    "\n",
    "Emem = ufloat(35, 0.2)\n",
    "print(\"Emem = {:.1f}\".format(Emem))"
   ]
  },
  {
   "cell_type": "markdown",
   "metadata": {},
   "source": [
    "We also need avalue of the ideal membrane potential, which we can calculate with the `nernst_potential` method. In this example, we'll assume that the membrane was measured in between 0.5 M and 0.1 M NaCl solutions."
   ]
  },
  {
   "cell_type": "code",
   "execution_count": 10,
   "metadata": {},
   "outputs": [],
   "source": [
    "from membrane_toolkit.core import apparent_permselectivity, nernst_potential"
   ]
  },
  {
   "cell_type": "code",
   "execution_count": 11,
   "metadata": {},
   "outputs": [
    {
     "name": "stdout",
     "output_type": "stream",
     "text": [
      "E_ideal = 41.3485\n"
     ]
    }
   ],
   "source": [
    "C_high = 0.5\n",
    "C_low = 0.1\n",
    "E_ideal = nernst_potential(C_high, C_low) * 1000 # convert V to mV\n",
    "print(\"E_ideal = {:.4f}\".format(E_ideal))"
   ]
  },
  {
   "cell_type": "code",
   "execution_count": 12,
   "metadata": {},
   "outputs": [
    {
     "name": "stdout",
     "output_type": "stream",
     "text": [
      "Emem = 35.0+/-0.2\n"
     ]
    }
   ],
   "source": [
    "from uncertainties import ufloat\n",
    "\n",
    "Emem = ufloat(35, 0.2)\n",
    "print(\"Emem = {:.1f}\".format(Emem))"
   ]
  },
  {
   "cell_type": "code",
   "execution_count": 13,
   "metadata": {},
   "outputs": [
    {
     "name": "stdout",
     "output_type": "stream",
     "text": [
      "alpha = 0.846+/-0.005\n"
     ]
    }
   ],
   "source": [
    "E_ideal = 41.3485\n",
    "permselectivity = apparent_permselectivity(Emem, E_ideal)\n",
    "print(\"alpha = {}\".format(permselectivity))"
   ]
  }
 ],
 "metadata": {
  "kernelspec": {
   "display_name": "Python 3",
   "language": "python",
   "name": "python3"
  },
  "language_info": {
   "codemirror_mode": {
    "name": "ipython",
    "version": 3
   },
   "file_extension": ".py",
   "mimetype": "text/x-python",
   "name": "python",
   "nbconvert_exporter": "python",
   "pygments_lexer": "ipython3",
   "version": "3.8.2"
  },
  "toc": {
   "colors": {
    "hover_highlight": "#DAA520",
    "running_highlight": "#FF0000",
    "selected_highlight": "#FFD700"
   },
   "moveMenuLeft": true,
   "nav_menu": {
    "height": "138px",
    "width": "252px"
   },
   "navigate_menu": true,
   "number_sections": false,
   "sideBar": true,
   "threshold": 4,
   "toc_cell": false,
   "toc_section_display": "block",
   "toc_window_display": false
  }
 },
 "nbformat": 4,
 "nbformat_minor": 4
}
